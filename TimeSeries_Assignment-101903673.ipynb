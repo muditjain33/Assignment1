{
 "cells": [
  {
   "cell_type": "markdown",
   "metadata": {
    "id": "qZ8xU34CYzId"
   },
   "source": [
    "### Name - Mudit Jain\n",
    "### Roll No - 101903673\n",
    "### Group - 4COE26"
   ]
  },
  {
   "cell_type": "markdown",
   "metadata": {
    "id": "0hMozKlDYko-"
   },
   "source": [
    "# Used Bayesian Ridge,Kernal Ridge & Gradient Boosting for solving the time series prediction problem of Road sensor dataset"
   ]
  },
  {
   "cell_type": "code",
   "execution_count": 41,
   "metadata": {
    "id": "HxyJw6nZPYIk"
   },
   "outputs": [],
   "source": [
    "import random\n",
    "import math\n",
    "import pandas as pd\n",
    "import numpy as np\n",
    "from sklearn.ensemble import ExtraTreesRegressor\n",
    "from sklearn.model_selection import cross_val_score\n",
    "from sklearn.metrics import mean_squared_error\n",
    "import matplotlib.pyplot as plt\n",
    "from matplotlib.pyplot import figure"
   ]
  },
  {
   "cell_type": "code",
   "execution_count": 42,
   "metadata": {
    "id": "WsSqxQftjNX0"
   },
   "outputs": [],
   "source": [
    "import warnings\n",
    "warnings.filterwarnings(\"ignore\")"
   ]
  },
  {
   "cell_type": "code",
   "execution_count": 115,
   "metadata": {
    "id": "Wo5PYK90PaAU"
   },
   "outputs": [],
   "source": [
    "df = pd.read_excel('DATASET.xlsx')"
   ]
  },
  {
   "cell_type": "code",
   "execution_count": 116,
   "metadata": {
    "colab": {
     "base_uri": "https://localhost:8080/",
     "height": 206
    },
    "id": "yDlKMGp0FjTu",
    "outputId": "099b956f-6eb0-4982-fc2c-bfe646f4d833"
   },
   "outputs": [
    {
     "data": {
      "text/html": [
       "<div>\n",
       "<style scoped>\n",
       "    .dataframe tbody tr th:only-of-type {\n",
       "        vertical-align: middle;\n",
       "    }\n",
       "\n",
       "    .dataframe tbody tr th {\n",
       "        vertical-align: top;\n",
       "    }\n",
       "\n",
       "    .dataframe thead th {\n",
       "        text-align: right;\n",
       "    }\n",
       "</style>\n",
       "<table border=\"1\" class=\"dataframe\">\n",
       "  <thead>\n",
       "    <tr style=\"text-align: right;\">\n",
       "      <th></th>\n",
       "      <th>Unnamed: 0</th>\n",
       "      <th>year</th>\n",
       "      <th>Para-1</th>\n",
       "      <th>Para-2</th>\n",
       "      <th>Para-3</th>\n",
       "      <th>Para-4</th>\n",
       "      <th>Para-5</th>\n",
       "      <th>Para-6</th>\n",
       "      <th>Para-7</th>\n",
       "      <th>Para-8</th>\n",
       "      <th>Para-9</th>\n",
       "      <th>Para-10</th>\n",
       "      <th>Para-11</th>\n",
       "      <th>Para-12</th>\n",
       "      <th>Para-13</th>\n",
       "    </tr>\n",
       "  </thead>\n",
       "  <tbody>\n",
       "    <tr>\n",
       "      <th>0</th>\n",
       "      <td>Sec_1</td>\n",
       "      <td>1</td>\n",
       "      <td>324.0</td>\n",
       "      <td>354.5</td>\n",
       "      <td>17.0</td>\n",
       "      <td>0.0</td>\n",
       "      <td>3</td>\n",
       "      <td>117</td>\n",
       "      <td>2600</td>\n",
       "      <td>400</td>\n",
       "      <td>0.0</td>\n",
       "      <td>0.0</td>\n",
       "      <td>0.0</td>\n",
       "      <td>0</td>\n",
       "      <td>1.52</td>\n",
       "    </tr>\n",
       "    <tr>\n",
       "      <th>1</th>\n",
       "      <td>NaN</td>\n",
       "      <td>2</td>\n",
       "      <td>324.0</td>\n",
       "      <td>161.1</td>\n",
       "      <td>18.2</td>\n",
       "      <td>0.0</td>\n",
       "      <td>4</td>\n",
       "      <td>106</td>\n",
       "      <td>5950</td>\n",
       "      <td>1190</td>\n",
       "      <td>0.0</td>\n",
       "      <td>3.4</td>\n",
       "      <td>0.0</td>\n",
       "      <td>0</td>\n",
       "      <td>1.62</td>\n",
       "    </tr>\n",
       "    <tr>\n",
       "      <th>2</th>\n",
       "      <td>NaN</td>\n",
       "      <td>3</td>\n",
       "      <td>324.0</td>\n",
       "      <td>170.7</td>\n",
       "      <td>18.5</td>\n",
       "      <td>0.0</td>\n",
       "      <td>4</td>\n",
       "      <td>110</td>\n",
       "      <td>5950</td>\n",
       "      <td>1190</td>\n",
       "      <td>0.0</td>\n",
       "      <td>21.3</td>\n",
       "      <td>0.0</td>\n",
       "      <td>4</td>\n",
       "      <td>1.68</td>\n",
       "    </tr>\n",
       "    <tr>\n",
       "      <th>3</th>\n",
       "      <td>NaN</td>\n",
       "      <td>4</td>\n",
       "      <td>324.0</td>\n",
       "      <td>223.9</td>\n",
       "      <td>18.9</td>\n",
       "      <td>0.0</td>\n",
       "      <td>3</td>\n",
       "      <td>110</td>\n",
       "      <td>6150</td>\n",
       "      <td>1340</td>\n",
       "      <td>0.0</td>\n",
       "      <td>21.3</td>\n",
       "      <td>0.0</td>\n",
       "      <td>5</td>\n",
       "      <td>1.78</td>\n",
       "    </tr>\n",
       "    <tr>\n",
       "      <th>4</th>\n",
       "      <td>NaN</td>\n",
       "      <td>5</td>\n",
       "      <td>324.0</td>\n",
       "      <td>228.2</td>\n",
       "      <td>18.4</td>\n",
       "      <td>0.0</td>\n",
       "      <td>2</td>\n",
       "      <td>113</td>\n",
       "      <td>6340</td>\n",
       "      <td>1450</td>\n",
       "      <td>0.0</td>\n",
       "      <td>23.9</td>\n",
       "      <td>0.0</td>\n",
       "      <td>7</td>\n",
       "      <td>1.80</td>\n",
       "    </tr>\n",
       "  </tbody>\n",
       "</table>\n",
       "</div>"
      ],
      "text/plain": [
       "  Unnamed: 0  year  Para-1  Para-2  Para-3  Para-4  Para-5  Para-6  Para-7  \\\n",
       "0      Sec_1     1   324.0   354.5    17.0     0.0       3     117    2600   \n",
       "1        NaN     2   324.0   161.1    18.2     0.0       4     106    5950   \n",
       "2        NaN     3   324.0   170.7    18.5     0.0       4     110    5950   \n",
       "3        NaN     4   324.0   223.9    18.9     0.0       3     110    6150   \n",
       "4        NaN     5   324.0   228.2    18.4     0.0       2     113    6340   \n",
       "\n",
       "   Para-8  Para-9  Para-10  Para-11  Para-12  Para-13  \n",
       "0     400     0.0      0.0      0.0        0     1.52  \n",
       "1    1190     0.0      3.4      0.0        0     1.62  \n",
       "2    1190     0.0     21.3      0.0        4     1.68  \n",
       "3    1340     0.0     21.3      0.0        5     1.78  \n",
       "4    1450     0.0     23.9      0.0        7     1.80  "
      ]
     },
     "execution_count": 116,
     "metadata": {},
     "output_type": "execute_result"
    }
   ],
   "source": [
    "df.head()"
   ]
  },
  {
   "cell_type": "code",
   "execution_count": 117,
   "metadata": {
    "id": "4bbI1N_QRKM8"
   },
   "outputs": [],
   "source": [
    "#Anomolies \n",
    "clear_idx = 910\n",
    "lst_to_clear = []\n",
    "for i in range(9):\n",
    "    lst_to_clear.append(clear_idx+i)\n",
    "lst_to_clear\n",
    "df.fillna(0, inplace=True)\n",
    "df.drop(lst_to_clear, inplace = True)"
   ]
  },
  {
   "cell_type": "code",
   "execution_count": 118,
   "metadata": {
    "id": "GZvPLb_7FvqT"
   },
   "outputs": [],
   "source": [
    "df.columns = df.columns.str.replace('Unnamed: 0', 'Section_name')"
   ]
  },
  {
   "cell_type": "code",
   "execution_count": 119,
   "metadata": {
    "colab": {
     "base_uri": "https://localhost:8080/",
     "height": 206
    },
    "id": "UP8GnrJTPuMA",
    "outputId": "b653048e-409d-4239-845f-1b9042d9170e"
   },
   "outputs": [
    {
     "data": {
      "text/html": [
       "<div>\n",
       "<style scoped>\n",
       "    .dataframe tbody tr th:only-of-type {\n",
       "        vertical-align: middle;\n",
       "    }\n",
       "\n",
       "    .dataframe tbody tr th {\n",
       "        vertical-align: top;\n",
       "    }\n",
       "\n",
       "    .dataframe thead th {\n",
       "        text-align: right;\n",
       "    }\n",
       "</style>\n",
       "<table border=\"1\" class=\"dataframe\">\n",
       "  <thead>\n",
       "    <tr style=\"text-align: right;\">\n",
       "      <th></th>\n",
       "      <th>Section_name</th>\n",
       "      <th>year</th>\n",
       "      <th>Para-1</th>\n",
       "      <th>Para-2</th>\n",
       "      <th>Para-3</th>\n",
       "      <th>Para-4</th>\n",
       "      <th>Para-5</th>\n",
       "      <th>Para-6</th>\n",
       "      <th>Para-7</th>\n",
       "      <th>Para-8</th>\n",
       "      <th>Para-9</th>\n",
       "      <th>Para-10</th>\n",
       "      <th>Para-11</th>\n",
       "      <th>Para-12</th>\n",
       "      <th>Para-13</th>\n",
       "    </tr>\n",
       "  </thead>\n",
       "  <tbody>\n",
       "    <tr>\n",
       "      <th>0</th>\n",
       "      <td>Sec_1</td>\n",
       "      <td>1</td>\n",
       "      <td>324.0</td>\n",
       "      <td>354.5</td>\n",
       "      <td>17.0</td>\n",
       "      <td>0.0</td>\n",
       "      <td>3</td>\n",
       "      <td>117</td>\n",
       "      <td>2600</td>\n",
       "      <td>400</td>\n",
       "      <td>0.0</td>\n",
       "      <td>0.0</td>\n",
       "      <td>0.0</td>\n",
       "      <td>0</td>\n",
       "      <td>1.52</td>\n",
       "    </tr>\n",
       "    <tr>\n",
       "      <th>1</th>\n",
       "      <td>Sec_1</td>\n",
       "      <td>2</td>\n",
       "      <td>324.0</td>\n",
       "      <td>161.1</td>\n",
       "      <td>18.2</td>\n",
       "      <td>0.0</td>\n",
       "      <td>4</td>\n",
       "      <td>106</td>\n",
       "      <td>5950</td>\n",
       "      <td>1190</td>\n",
       "      <td>0.0</td>\n",
       "      <td>3.4</td>\n",
       "      <td>0.0</td>\n",
       "      <td>0</td>\n",
       "      <td>1.62</td>\n",
       "    </tr>\n",
       "    <tr>\n",
       "      <th>2</th>\n",
       "      <td>Sec_1</td>\n",
       "      <td>3</td>\n",
       "      <td>324.0</td>\n",
       "      <td>170.7</td>\n",
       "      <td>18.5</td>\n",
       "      <td>0.0</td>\n",
       "      <td>4</td>\n",
       "      <td>110</td>\n",
       "      <td>5950</td>\n",
       "      <td>1190</td>\n",
       "      <td>0.0</td>\n",
       "      <td>21.3</td>\n",
       "      <td>0.0</td>\n",
       "      <td>4</td>\n",
       "      <td>1.68</td>\n",
       "    </tr>\n",
       "    <tr>\n",
       "      <th>3</th>\n",
       "      <td>Sec_1</td>\n",
       "      <td>4</td>\n",
       "      <td>324.0</td>\n",
       "      <td>223.9</td>\n",
       "      <td>18.9</td>\n",
       "      <td>0.0</td>\n",
       "      <td>3</td>\n",
       "      <td>110</td>\n",
       "      <td>6150</td>\n",
       "      <td>1340</td>\n",
       "      <td>0.0</td>\n",
       "      <td>21.3</td>\n",
       "      <td>0.0</td>\n",
       "      <td>5</td>\n",
       "      <td>1.78</td>\n",
       "    </tr>\n",
       "    <tr>\n",
       "      <th>4</th>\n",
       "      <td>Sec_1</td>\n",
       "      <td>5</td>\n",
       "      <td>324.0</td>\n",
       "      <td>228.2</td>\n",
       "      <td>18.4</td>\n",
       "      <td>0.0</td>\n",
       "      <td>2</td>\n",
       "      <td>113</td>\n",
       "      <td>6340</td>\n",
       "      <td>1450</td>\n",
       "      <td>0.0</td>\n",
       "      <td>23.9</td>\n",
       "      <td>0.0</td>\n",
       "      <td>7</td>\n",
       "      <td>1.80</td>\n",
       "    </tr>\n",
       "  </tbody>\n",
       "</table>\n",
       "</div>"
      ],
      "text/plain": [
       "  Section_name  year  Para-1  Para-2  Para-3  Para-4  Para-5  Para-6  Para-7  \\\n",
       "0        Sec_1     1   324.0   354.5    17.0     0.0       3     117    2600   \n",
       "1        Sec_1     2   324.0   161.1    18.2     0.0       4     106    5950   \n",
       "2        Sec_1     3   324.0   170.7    18.5     0.0       4     110    5950   \n",
       "3        Sec_1     4   324.0   223.9    18.9     0.0       3     110    6150   \n",
       "4        Sec_1     5   324.0   228.2    18.4     0.0       2     113    6340   \n",
       "\n",
       "   Para-8  Para-9  Para-10  Para-11  Para-12  Para-13  \n",
       "0     400     0.0      0.0      0.0        0     1.52  \n",
       "1    1190     0.0      3.4      0.0        0     1.62  \n",
       "2    1190     0.0     21.3      0.0        4     1.68  \n",
       "3    1340     0.0     21.3      0.0        5     1.78  \n",
       "4    1450     0.0     23.9      0.0        7     1.80  "
      ]
     },
     "execution_count": 119,
     "metadata": {},
     "output_type": "execute_result"
    }
   ],
   "source": [
    "\n",
    "mul = 10\n",
    "j = 0\n",
    "for i in range(100):\n",
    "    sec_name = df.iloc[j,0]\n",
    "    df.iloc[j:j + mul, 0] = sec_name\n",
    "    j += mul\n",
    "test_frame = df.loc[df['year'] == 10]\n",
    "df.head()"
   ]
  },
  {
   "cell_type": "code",
   "execution_count": 120,
   "metadata": {
    "id": "FnEh2L9Uk-kk"
   },
   "outputs": [],
   "source": [
    "move = 9\n",
    "def extract_xtrain(df, row_start, col_start):\n",
    "    row_end = row_start + move\n",
    "    return df.iloc[row_start:row_end, 1:10]"
   ]
  },
  {
   "cell_type": "code",
   "execution_count": 121,
   "metadata": {
    "id": "WYAWxMoZmsTR"
   },
   "outputs": [],
   "source": [
    "def extract_ytrain(df, row_start, col_start):\n",
    "    row_end = row_start + move\n",
    "    return df.iloc[row_start:row_end, col_start]"
   ]
  },
  {
   "cell_type": "code",
   "execution_count": 122,
   "metadata": {
    "id": "63jMYzNMoNkM"
   },
   "outputs": [],
   "source": [
    "def extract_xtest(df, row_start):\n",
    "    row_end = row_start + move\n",
    "    return df.iloc[row_end, 1:10].to_numpy()"
   ]
  },
  {
   "cell_type": "code",
   "execution_count": 123,
   "metadata": {
    "id": "-popZ5EKpIFF"
   },
   "outputs": [],
   "source": [
    "def extract_ytest(df, row_start, col_start):\n",
    "    row_end = row_start + move\n",
    "    return df.iloc[row_end, col_start]"
   ]
  },
  {
   "cell_type": "code",
   "execution_count": 124,
   "metadata": {
    "id": "Hc0aufB8HepN"
   },
   "outputs": [],
   "source": [
    "def calcuate_lmse(predict_val, test_val):\n",
    "    pred_diff = predict_val - test_val\n",
    "    return (pred_diff)**2"
   ]
  },
  {
   "cell_type": "code",
   "execution_count": 125,
   "metadata": {
    "id": "bxMogYPsJ6W_"
   },
   "outputs": [],
   "source": [
    "column_name = [\"Para-\"+str(i) for i in range(9,14)]\n",
    "XY = []\n",
    "def getXYsplit(df, row_start, row_end):\n",
    "    XY = []\n",
    "    XY.append(extract_xtrain(df, row_start, row_end))\n",
    "    XY.append(extract_ytrain(df, row_start, row_end))\n",
    "    XY.append(extract_xtest(df,row_start))\n",
    "    XY.append(extract_ytest(df,row_start,row_end))\n",
    "    return XY"
   ]
  },
  {
   "cell_type": "code",
   "execution_count": 126,
   "metadata": {
    "id": "d9EFEn9tkvLT"
   },
   "outputs": [],
   "source": [
    "from collections import defaultdict"
   ]
  },
  {
   "cell_type": "code",
   "execution_count": 127,
   "metadata": {
    "id": "TrPevRoAP2B4"
   },
   "outputs": [],
   "source": [
    "pred_values = defaultdict(lambda : [])"
   ]
  },
  {
   "cell_type": "code",
   "execution_count": 128,
   "metadata": {
    "id": "7xVANkmQM0FQ"
   },
   "outputs": [],
   "source": [
    "from sklearn.metrics import mean_squared_error"
   ]
  },
  {
   "cell_type": "code",
   "execution_count": 129,
   "metadata": {},
   "outputs": [],
   "source": [
    "rmse_combine = []"
   ]
  },
  {
   "cell_type": "code",
   "execution_count": 130,
   "metadata": {},
   "outputs": [],
   "source": [
    "from sklearn.linear_model import BayesianRidge\n",
    "model = BayesianRidge()"
   ]
  },
  {
   "cell_type": "code",
   "execution_count": 131,
   "metadata": {
    "id": "788BlhlMP3OY"
   },
   "outputs": [],
   "source": [
    "target_col = [10,11,12,13,14]\n",
    "root_mean_square_error = []\n",
    "total_count = 0\n",
    "curr_section = 0\n",
    "total_squared_error = 0\n",
    "max_val = 1000\n",
    "for j in target_col:\n",
    "    local_squared_error = 0\n",
    "    l_count = 0\n",
    "    LXY = [0,0,0,0]\n",
    "    for i in range(0, max_val, 10):\n",
    "        LXY = getXYsplit(df,i,j)\n",
    "        x_train, y_train,x_test,y_test = LXY[0],LXY[1],LXY[2],LXY[3]\n",
    "        model.fit(x_train, y_train)\n",
    "        ypred = model.predict(x_test.reshape(1,-1))[0]\n",
    "        pred_values[column_name[curr_section]].append(ypred)\n",
    "        total_squared_error = calcuate_lmse(ypred, y_test) + total_squared_error\n",
    "        l_count += 1\n",
    "        total_count += 1\n",
    "\n",
    "    curr_section += 1\n"
   ]
  },
  {
   "cell_type": "code",
   "execution_count": null,
   "metadata": {
    "colab": {
     "base_uri": "https://localhost:8080/"
    },
    "id": "MfdrXDozP6U2",
    "outputId": "3aa1b921-7c27-4729-cfed-23802db4f9b5"
   },
   "outputs": [],
   "source": [
    "total_rmse_by_n = total_squared_error/total_count\n",
    "final_rmse = total_rmse_by_n**0.5\n",
    "rmse_combine.append([\"Bayesian Ridge\",final_rmse])\n",
    "print(\"The RMSE of Bayesian Ridge is -- \" + str(final_rmse))"
   ]
  },
  {
   "cell_type": "code",
   "execution_count": 133,
   "metadata": {},
   "outputs": [],
   "source": [
    "from sklearn.kernel_ridge import KernelRidge\n",
    "model = KernelRidge(alpha=1.0)"
   ]
  },
  {
   "cell_type": "code",
   "execution_count": 134,
   "metadata": {},
   "outputs": [],
   "source": [
    "target_col = [10,11,12,13,14]\n",
    "root_mean_square_error = []\n",
    "total_count = 0\n",
    "curr_section = 0\n",
    "total_squared_error = 0\n",
    "max_val = 1000\n",
    "for j in target_col:\n",
    "    local_squared_error = 0\n",
    "    l_count = 0\n",
    "    LXY = [0,0,0,0]\n",
    "    for i in range(0, max_val, 10):\n",
    "        LXY = getXYsplit(df,i,j)\n",
    "        x_train, y_train,x_test,y_test = LXY[0],LXY[1],LXY[2],LXY[3]\n",
    "        model.fit(x_train, y_train)\n",
    "        ypred = model.predict(x_test.reshape(1,-1))[0]\n",
    "        pred_values[column_name[curr_section]].append(ypred)\n",
    "        total_squared_error = calcuate_lmse(ypred, y_test) + total_squared_error\n",
    "        l_count += 1\n",
    "        total_count += 1\n",
    "    curr_section += 1\n"
   ]
  },
  {
   "cell_type": "code",
   "execution_count": null,
   "metadata": {},
   "outputs": [],
   "source": [
    "total_rmse_by_n = total_squared_error/total_count\n",
    "final_rmse = total_rmse_by_n**0.5\n",
    "rmse_combine.append([\"Kernal Ridge\",final_rmse])\n",
    "print(\"The RMSE of Kernal Ridge  \" + str(final_rmse))"
   ]
  },
  {
   "cell_type": "code",
   "execution_count": 136,
   "metadata": {},
   "outputs": [],
   "source": [
    "from sklearn.ensemble import GradientBoostingRegressor\n",
    "model = GradientBoostingRegressor(random_state=42)"
   ]
  },
  {
   "cell_type": "code",
   "execution_count": 137,
   "metadata": {},
   "outputs": [],
   "source": [
    "target_col = [10,11,12,13,14]\n",
    "root_mean_square_error = []\n",
    "total_count = 0\n",
    "curr_section = 0\n",
    "total_squared_error = 0\n",
    "max_val = 1000\n",
    "for j in target_col:\n",
    "    local_squared_error = 0\n",
    "    l_count = 0\n",
    "    LXY = [0,0,0,0]\n",
    "    for i in range(0, max_val, 10):\n",
    "        LXY = getXYsplit(df,i,j)\n",
    "        x_train, y_train,x_test,y_test = LXY[0],LXY[1],LXY[2],LXY[3]\n",
    "        model.fit(x_train, y_train)\n",
    "        ypred = model.predict(x_test.reshape(1,-1))[0]\n",
    "        pred_values[column_name[curr_section]].append(ypred)\n",
    "        total_squared_error = calcuate_lmse(ypred, y_test) + total_squared_error\n",
    "        l_count += 1\n",
    "        total_count += 1\n",
    "    curr_section += 1\n"
   ]
  },
  {
   "cell_type": "code",
   "execution_count": null,
   "metadata": {},
   "outputs": [],
   "source": [
    "total_rmse_by_n = total_squared_error/total_count\n",
    "final_rmse = total_rmse_by_n**0.5\n",
    "rmse_combine.append([\"Gradient Boosting\",final_rmse])\n",
    "print(\"The RMSE of Gradient Boosting  \" + str(final_rmse))"
   ]
  },
  {
   "cell_type": "code",
   "execution_count": 140,
   "metadata": {
    "id": "IX6oi8oN7VZs"
   },
   "outputs": [],
   "source": [
    "plot_row = 50\n",
    "random_rows = []\n",
    "for i in range(plot_row):\n",
    "    random_rows.append(random.randint(0,90))\n"
   ]
  },
  {
   "cell_type": "code",
   "execution_count": null,
   "metadata": {
    "colab": {
     "base_uri": "https://localhost:8080/",
     "height": 830
    },
    "id": "PAZG8tpY9_RB",
    "outputId": "0ab235d8-e561-44be-d2f5-899b72ddea01"
   },
   "outputs": [],
   "source": [
    "figure(figsize=(13, 7), dpi=130)\n",
    "true_value = predicted_df.iloc[random_rows, 0]\n",
    "predicted_value = test_frame.iloc[random_rows,10]\n",
    "x_value = []\n",
    "for i in range(len(true_value)):\n",
    "    x_value.append(i+1)\n",
    "plt.plot(x_value,predicted_value, linestyle = 'dotted', label = 'predicted')\n",
    "plt.plot(x_value,true_value, linestyle = 'dotted', label = 'orginial')\n",
    "plt.xlabel('Number of Values')\n",
    "plt.ylabel('Values')\n",
    "plt.title('True vs Predicted Values of Para-9')\n",
    "plt.legend(loc = 'upper right')"
   ]
  },
  {
   "cell_type": "code",
   "execution_count": null,
   "metadata": {
    "colab": {
     "base_uri": "https://localhost:8080/",
     "height": 830
    },
    "id": "RrsU5KQREVJh",
    "outputId": "34bff665-deeb-4fce-a804-34cb121dfd5a"
   },
   "outputs": [],
   "source": [
    "figure(figsize=(13, 7), dpi=130)\n",
    "true_value = predicted_df.iloc[random_rows, 0]\n",
    "predicted_value = test_frame.iloc[random_rows,11]\n",
    "x_value = []\n",
    "for i in range(len(true_value)):\n",
    "    x_value.append(i+1)\n",
    "plt.plot(x_value,predicted_value, linestyle = 'dotted', label = 'predicted')\n",
    "plt.plot(x_value,true_value, linestyle = 'dotted', label = 'orginial')\n",
    "plt.xlabel('Number of Values')\n",
    "plt.ylabel('Values')\n",
    "plt.title('True vs Predicted Values of Para-10')\n",
    "plt.legend(loc = 'upper right')"
   ]
  },
  {
   "cell_type": "code",
   "execution_count": null,
   "metadata": {
    "colab": {
     "base_uri": "https://localhost:8080/",
     "height": 830
    },
    "id": "xR8T1sB4EV2Q",
    "outputId": "9c144aea-c9d2-4259-b8c1-b0e3bb15ed17"
   },
   "outputs": [],
   "source": [
    "figure(figsize=(13, 7), dpi=130)\n",
    "true_value = predicted_df.iloc[random_rows, 0]\n",
    "predicted_value = test_frame.iloc[random_rows,12]\n",
    "x_value = []\n",
    "for i in range(len(true_value)):\n",
    "    x_value.append(i+1)\n",
    "plt.plot(x_value,predicted_value, linestyle = 'dotted', label = 'predicted')\n",
    "plt.plot(x_value,true_value, linestyle = 'dotted', label = 'orginial')\n",
    "plt.xlabel('Number of Values')\n",
    "plt.ylabel('Values')\n",
    "plt.title('True vs Predicted Values of Para-11')\n",
    "plt.legend(loc = 'upper right')"
   ]
  },
  {
   "cell_type": "code",
   "execution_count": null,
   "metadata": {
    "colab": {
     "base_uri": "https://localhost:8080/",
     "height": 830
    },
    "id": "Gaxe-9clEWuv",
    "outputId": "d7562695-0e59-4685-daa7-22eee0bba364"
   },
   "outputs": [],
   "source": [
    "figure(figsize=(13, 7), dpi=130)\n",
    "true_value = predicted_df.iloc[random_rows, 0]\n",
    "predicted_value = test_frame.iloc[random_rows,13]\n",
    "x_value = []\n",
    "for i in range(len(true_value)):\n",
    "    x_value.append(i+1)\n",
    "plt.plot(x_value,predicted_value, linestyle = 'dotted', label = 'predicted')\n",
    "plt.plot(x_value,true_value, linestyle = 'dotted', label = 'orginial')\n",
    "plt.xlabel('Number of Values')\n",
    "plt.ylabel('Values')\n",
    "plt.title('True vs Predicted Values of Para-12')\n",
    "plt.legend(loc = 'upper right')"
   ]
  },
  {
   "cell_type": "code",
   "execution_count": null,
   "metadata": {
    "colab": {
     "base_uri": "https://localhost:8080/",
     "height": 830
    },
    "id": "BTmRiTcmEW_b",
    "outputId": "f57b2e43-7e3b-4132-d3c5-1d67f0aeaed4"
   },
   "outputs": [],
   "source": [
    "figure(figsize=(13, 7), dpi=130)\n",
    "true_value = predicted_df.iloc[random_rows, 0]\n",
    "predicted_value = test_frame.iloc[random_rows,14]\n",
    "x_value = []\n",
    "for i in range(len(true_value)):\n",
    "    x_value.append(i+1)\n",
    "plt.plot(x_value,predicted_value, linestyle = 'dotted', label = 'predicted')\n",
    "plt.plot(x_value,true_value, linestyle = 'dotted', label = 'orginial')\n",
    "plt.xlabel('Number of Values')\n",
    "plt.ylabel('Values')\n",
    "plt.title('True vs Predicted Values of Para-13')\n",
    "plt.legend(loc = 'upper right')"
   ]
  },
  {
   "cell_type": "code",
   "execution_count": null,
   "metadata": {},
   "outputs": [],
   "source": [
    "rmse_combine"
   ]
  }
 ],
 "metadata": {
  "colab": {
   "provenance": []
  },
  "kernelspec": {
   "display_name": "Python 3.10.6 64-bit",
   "language": "python",
   "name": "python3"
  },
  "language_info": {
   "codemirror_mode": {
    "name": "ipython",
    "version": 3
   },
   "file_extension": ".py",
   "mimetype": "text/x-python",
   "name": "python",
   "nbconvert_exporter": "python",
   "pygments_lexer": "ipython3",
   "version": "3.10.6"
  },
  "vscode": {
   "interpreter": {
    "hash": "c1fd8c99ec767a3093790aadbd23b282cb2563d0e033731624352a553ec955a8"
   }
  }
 },
 "nbformat": 4,
 "nbformat_minor": 1
}
